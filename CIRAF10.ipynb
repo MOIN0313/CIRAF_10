{
 "cells": [
  {
   "cell_type": "markdown",
   "id": "72f97c45",
   "metadata": {},
   "source": [
    "# 1. import necessary library"
   ]
  },
  {
   "cell_type": "code",
   "execution_count": 18,
   "id": "e4cee7a3",
   "metadata": {},
   "outputs": [],
   "source": [
    "import tensorflow as tf\n",
    "from tensorflow import keras\n",
    "from keras.models import Sequential\n",
    "from keras.layers import Conv2D,MaxPooling2D,Flatten,Dense,Dropout\n"
   ]
  },
  {
   "cell_type": "markdown",
   "id": "0b655825",
   "metadata": {},
   "source": [
    "# 2. import  dataset"
   ]
  },
  {
   "cell_type": "code",
   "execution_count": 3,
   "id": "5017850a",
   "metadata": {},
   "outputs": [],
   "source": [
    "(X_train,y_train),(X_test,y_test)=tf.keras.datasets.cifar10.load_data()"
   ]
  },
  {
   "cell_type": "markdown",
   "id": "5e1c5ae2",
   "metadata": {},
   "source": [
    "# 3. data understanding"
   ]
  },
  {
   "cell_type": "code",
   "execution_count": 4,
   "id": "0ace51fe",
   "metadata": {
    "scrolled": true
   },
   "outputs": [
    {
     "data": {
      "text/plain": [
       "((50000, 32, 32, 3), (50000, 1))"
      ]
     },
     "execution_count": 4,
     "metadata": {},
     "output_type": "execute_result"
    }
   ],
   "source": [
    "X_train.shape,y_train.shape"
   ]
  },
  {
   "cell_type": "code",
   "execution_count": 5,
   "id": "68d46f36",
   "metadata": {},
   "outputs": [
    {
     "data": {
      "text/plain": [
       "((10000, 32, 32, 3), (10000, 1))"
      ]
     },
     "execution_count": 5,
     "metadata": {},
     "output_type": "execute_result"
    }
   ],
   "source": [
    "X_test.shape,y_test.shape"
   ]
  },
  {
   "cell_type": "code",
   "execution_count": 9,
   "id": "55624f8d",
   "metadata": {},
   "outputs": [
    {
     "data": {
      "text/plain": [
       "array([[[ 59,  62,  63],\n",
       "        [ 43,  46,  45],\n",
       "        [ 50,  48,  43],\n",
       "        ...,\n",
       "        [158, 132, 108],\n",
       "        [152, 125, 102],\n",
       "        [148, 124, 103]],\n",
       "\n",
       "       [[ 16,  20,  20],\n",
       "        [  0,   0,   0],\n",
       "        [ 18,   8,   0],\n",
       "        ...,\n",
       "        [123,  88,  55],\n",
       "        [119,  83,  50],\n",
       "        [122,  87,  57]],\n",
       "\n",
       "       [[ 25,  24,  21],\n",
       "        [ 16,   7,   0],\n",
       "        [ 49,  27,   8],\n",
       "        ...,\n",
       "        [118,  84,  50],\n",
       "        [120,  84,  50],\n",
       "        [109,  73,  42]],\n",
       "\n",
       "       ...,\n",
       "\n",
       "       [[208, 170,  96],\n",
       "        [201, 153,  34],\n",
       "        [198, 161,  26],\n",
       "        ...,\n",
       "        [160, 133,  70],\n",
       "        [ 56,  31,   7],\n",
       "        [ 53,  34,  20]],\n",
       "\n",
       "       [[180, 139,  96],\n",
       "        [173, 123,  42],\n",
       "        [186, 144,  30],\n",
       "        ...,\n",
       "        [184, 148,  94],\n",
       "        [ 97,  62,  34],\n",
       "        [ 83,  53,  34]],\n",
       "\n",
       "       [[177, 144, 116],\n",
       "        [168, 129,  94],\n",
       "        [179, 142,  87],\n",
       "        ...,\n",
       "        [216, 184, 140],\n",
       "        [151, 118,  84],\n",
       "        [123,  92,  72]]], dtype=uint8)"
      ]
     },
     "execution_count": 9,
     "metadata": {},
     "output_type": "execute_result"
    }
   ],
   "source": [
    "X_train[0] # u can see it is 3 channel image"
   ]
  },
  {
   "cell_type": "code",
   "execution_count": 16,
   "id": "d878ef14",
   "metadata": {},
   "outputs": [
    {
     "data": {
      "text/plain": [
       "(64.1500758911213, 64.06097012299574)"
      ]
     },
     "execution_count": 16,
     "metadata": {},
     "output_type": "execute_result"
    }
   ],
   "source": [
    "X_train.std(),X_test.std()"
   ]
  },
  {
   "cell_type": "markdown",
   "id": "fe3ba7bb",
   "metadata": {},
   "source": [
    "# 4. Model building"
   ]
  },
  {
   "cell_type": "code",
   "execution_count": 44,
   "id": "649c8ebc",
   "metadata": {},
   "outputs": [
    {
     "name": "stdout",
     "output_type": "stream",
     "text": [
      "Model: \"sequential_12\"\n",
      "_________________________________________________________________\n",
      " Layer (type)                Output Shape              Param #   \n",
      "=================================================================\n",
      " conv2d_55 (Conv2D)          (None, 8, 8, 96)          34944     \n",
      "                                                                 \n",
      " max_pooling2d_33 (MaxPoolin  (None, 4, 4, 96)         0         \n",
      " g2D)                                                            \n",
      "                                                                 \n",
      " conv2d_56 (Conv2D)          (None, 4, 4, 256)         614656    \n",
      "                                                                 \n",
      " max_pooling2d_34 (MaxPoolin  (None, 2, 2, 256)        0         \n",
      " g2D)                                                            \n",
      "                                                                 \n",
      " conv2d_57 (Conv2D)          (None, 2, 2, 384)         885120    \n",
      "                                                                 \n",
      " conv2d_58 (Conv2D)          (None, 2, 2, 384)         1327488   \n",
      "                                                                 \n",
      " conv2d_59 (Conv2D)          (None, 2, 2, 256)         884992    \n",
      "                                                                 \n",
      " max_pooling2d_35 (MaxPoolin  (None, 1, 1, 256)        0         \n",
      " g2D)                                                            \n",
      "                                                                 \n",
      " flatten_8 (Flatten)         (None, 256)               0         \n",
      "                                                                 \n",
      " dense_18 (Dense)            (None, 4096)              1052672   \n",
      "                                                                 \n",
      " dropout_10 (Dropout)        (None, 4096)              0         \n",
      "                                                                 \n",
      " dense_19 (Dense)            (None, 4096)              16781312  \n",
      "                                                                 \n",
      " dropout_11 (Dropout)        (None, 4096)              0         \n",
      "                                                                 \n",
      " dense_20 (Dense)            (None, 1000)              4097000   \n",
      "                                                                 \n",
      "=================================================================\n",
      "Total params: 25,678,184\n",
      "Trainable params: 25,678,184\n",
      "Non-trainable params: 0\n",
      "_________________________________________________________________\n",
      "Model: \"sequential_12\"\n",
      "_________________________________________________________________\n",
      " Layer (type)                Output Shape              Param #   \n",
      "=================================================================\n",
      " conv2d_55 (Conv2D)          (None, 8, 8, 96)          34944     \n",
      "                                                                 \n",
      " max_pooling2d_33 (MaxPoolin  (None, 4, 4, 96)         0         \n",
      " g2D)                                                            \n",
      "                                                                 \n",
      " conv2d_56 (Conv2D)          (None, 4, 4, 256)         614656    \n",
      "                                                                 \n",
      " max_pooling2d_34 (MaxPoolin  (None, 2, 2, 256)        0         \n",
      " g2D)                                                            \n",
      "                                                                 \n",
      " conv2d_57 (Conv2D)          (None, 2, 2, 384)         885120    \n",
      "                                                                 \n",
      " conv2d_58 (Conv2D)          (None, 2, 2, 384)         1327488   \n",
      "                                                                 \n",
      " conv2d_59 (Conv2D)          (None, 2, 2, 256)         884992    \n",
      "                                                                 \n",
      " max_pooling2d_35 (MaxPoolin  (None, 1, 1, 256)        0         \n",
      " g2D)                                                            \n",
      "                                                                 \n",
      " flatten_8 (Flatten)         (None, 256)               0         \n",
      "                                                                 \n",
      " dense_18 (Dense)            (None, 4096)              1052672   \n",
      "                                                                 \n",
      " dropout_10 (Dropout)        (None, 4096)              0         \n",
      "                                                                 \n",
      " dense_19 (Dense)            (None, 4096)              16781312  \n",
      "                                                                 \n",
      " dropout_11 (Dropout)        (None, 4096)              0         \n",
      "                                                                 \n",
      " dense_20 (Dense)            (None, 1000)              4097000   \n",
      "                                                                 \n",
      "=================================================================\n",
      "Total params: 25,678,184\n",
      "Trainable params: 25,678,184\n",
      "Non-trainable params: 0\n",
      "_________________________________________________________________\n"
     ]
    }
   ],
   "source": [
    "model=Sequential()\n",
    "model.add(Conv2D( input_shape=(32,32,3),filters=96,kernel_size=11,strides=4,padding='same',activation='relu'))\n",
    "model.add(MaxPooling2D(pool_size=(3,3),strides=(2,2),padding='same'))\n",
    "model.add(Conv2D(filters=256,kernel_size=5,strides=1,padding='same',activation='relu'))\n",
    "model.add(MaxPooling2D(pool_size=(3,3),strides=(2,2),padding='same'))\n",
    "\n",
    "model.add(Conv2D(filters=384,kernel_size=3,strides=1,padding='same',activation='relu'))\n",
    "model.add(Conv2D(filters=384,kernel_size=3,strides=1,padding='same',activation='relu'))\n",
    "model.add(Conv2D(filters=256,kernel_size=3,strides=1,padding='same',activation='relu'))\n",
    "model.add(MaxPooling2D(pool_size=(3,3),strides=(2,2),padding='same'))\n",
    "\n",
    "model.add(Flatten())\n",
    "model.add(Dense(units=4096,activation='tanh'))\n",
    "model.add(Dropout(rate=0.3))\n",
    "model.add(Dense(units=4096,activation='tanh'))\n",
    "model.add(Dropout(rate=0.3))\n",
    "model.add(Dense(units=1000,activation='softmax'))\n",
    "model.summary()\n",
    "model.summary()"
   ]
  },
  {
   "cell_type": "markdown",
   "id": "28f01b5e",
   "metadata": {},
   "source": [
    "## 4.2 model_compilation"
   ]
  },
  {
   "cell_type": "code",
   "execution_count": 45,
   "id": "6573fb67",
   "metadata": {},
   "outputs": [],
   "source": [
    "model.compile(optimizer='sgd',loss=\"sparse_categorical_crossentropy\",metrics='sparse_categorical_accuracy',)"
   ]
  },
  {
   "cell_type": "markdown",
   "id": "9df3a6c7",
   "metadata": {},
   "source": [
    "# 4.3 model_trainig"
   ]
  },
  {
   "cell_type": "markdown",
   "id": "21aaa0b3",
   "metadata": {},
   "source": [
    " "
   ]
  },
  {
   "cell_type": "code",
   "execution_count": null,
   "id": "7f3dc8fc",
   "metadata": {},
   "outputs": [
    {
     "name": "stdout",
     "output_type": "stream",
     "text": [
      "Epoch 1/10\n",
      "1563/1563 - 971s - loss: 3.0545 - sparse_categorical_accuracy: 0.0974 - val_loss: 2.9320 - val_sparse_categorical_accuracy: 0.1000 - 971s/epoch - 621ms/step\n",
      "Epoch 2/10\n",
      "1563/1563 - 4613s - loss: 2.4909 - sparse_categorical_accuracy: 0.0987 - val_loss: 2.5978 - val_sparse_categorical_accuracy: 0.1000 - 4613s/epoch - 3s/step\n",
      "Epoch 3/10\n",
      "1563/1563 - 1089s - loss: 2.4773 - sparse_categorical_accuracy: 0.0997 - val_loss: 2.8383 - val_sparse_categorical_accuracy: 0.1000 - 1089s/epoch - 697ms/step\n",
      "Epoch 4/10\n"
     ]
    }
   ],
   "source": [
    "model_training=model.fit(x=X_train,y=y_train,batch_size=32,epochs=10,validation_data=(X_test,y_test),verbose=2)"
   ]
  },
  {
   "cell_type": "code",
   "execution_count": null,
   "id": "fc6e851a",
   "metadata": {},
   "outputs": [],
   "source": []
  }
 ],
 "metadata": {
  "kernelspec": {
   "display_name": "Python 3 (ipykernel)",
   "language": "python",
   "name": "python3"
  },
  "language_info": {
   "codemirror_mode": {
    "name": "ipython",
    "version": 3
   },
   "file_extension": ".py",
   "mimetype": "text/x-python",
   "name": "python",
   "nbconvert_exporter": "python",
   "pygments_lexer": "ipython3",
   "version": "3.9.12"
  }
 },
 "nbformat": 4,
 "nbformat_minor": 5
}
